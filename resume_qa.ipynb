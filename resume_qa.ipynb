{
 "cells": [
  {
   "cell_type": "code",
   "execution_count": null,
   "id": "3aeb4634-0a0f-4fb4-ad31-46df3d7afd09",
   "metadata": {
    "editable": true,
    "slideshow": {
     "slide_type": ""
    },
    "tags": []
   },
   "outputs": [],
   "source": [
    "!pip3 install --user \\\n",
    "    langchain==0.0.217 \\\n",
    "    pypdf \\\n",
    "    chromadb==0.3.26 \\\n",
    "    openai"
   ]
  },
  {
   "cell_type": "code",
   "execution_count": null,
   "id": "ea555592-54a1-4d69-b286-412cb268a70f",
   "metadata": {},
   "outputs": [],
   "source": [
    "%pip install openai==0.28.1\n",
    "%pip install langchain==0.0.330"
   ]
  },
  {
   "cell_type": "code",
   "execution_count": null,
   "id": "51c6e1d2-c970-4668-9f46-e8e90e1d76f0",
   "metadata": {},
   "outputs": [],
   "source": [
    "from langchain.document_loaders import PyPDFLoader\n",
    "from langchain.text_splitter import RecursiveCharacterTextSplitter\n",
    "from langchain.vectorstores import Chroma\n",
    "from langchain.embeddings import OpenAIEmbeddings\n",
    "from langchain.llms import OpenAI\n",
    "from langchain.memory import ConversationBufferMemory\n",
    "from langchain.chains import RetrievalQA, ConversationalRetrievalChain\n",
    "import chromadb\n",
    "import openai"
   ]
  },
  {
   "cell_type": "code",
   "execution_count": null,
   "id": "319ef728-c0f3-46e5-99ed-da4f12683c05",
   "metadata": {},
   "outputs": [],
   "source": [
    "loader = PyPDFLoader(\"Hasan Rahman - Resume.pdf\")\n",
    "pages = loader.load_and_split()"
   ]
  },
  {
   "cell_type": "code",
   "execution_count": null,
   "id": "92448dde-fabb-4fe9-a024-a4cd53de0e1b",
   "metadata": {},
   "outputs": [],
   "source": [
    "pages[0]"
   ]
  },
  {
   "cell_type": "code",
   "execution_count": null,
   "id": "8e206ddd-b8be-483e-a58c-ddc03a528f6d",
   "metadata": {},
   "outputs": [],
   "source": [
    "import os\n",
    "\n",
    "# Uncomment the following line to set the environment variable in the notebook\n",
    "os.environ[\"OPENAI_API_KEY\"] = ''\n",
    "\n",
    "if os.getenv(\"OPENAI_API_KEY\") is not None:\n",
    "    print(\"OPENAI_API_KEY is ready\")\n",
    "    import openai\n",
    "    openai.api_key = os.getenv(\"OPENAI_API_KEY\")\n",
    "else:\n",
    "    print(\"OPENAI_API_KEY environment variable not found\")"
   ]
  },
  {
   "cell_type": "code",
   "execution_count": null,
   "id": "ccfdc328-f05d-4fd7-8857-838bc8961d7c",
   "metadata": {},
   "outputs": [],
   "source": [
    "text_splitter = RecursiveCharacterTextSplitter(\n",
    "    chunk_size = 800,\n",
    "    chunk_overlap  = 400,\n",
    "    length_function = len,\n",
    ")\n",
    "\n",
    "chunks = text_splitter.split_documents(pages)\n",
    "\n",
    "# Look at the first two chunks \n",
    "chunks[0:2]"
   ]
  },
  {
   "cell_type": "code",
   "execution_count": null,
   "id": "777cd362-fd4a-4ae1-b27a-9b82c5c4b242",
   "metadata": {},
   "outputs": [],
   "source": [
    "print(f'Number of documents: {len(pages)}')\n",
    "print(f'Number of chunks: {len(chunks)}')"
   ]
  },
  {
   "cell_type": "code",
   "execution_count": null,
   "id": "07d6804e-3028-4fcb-9ea8-22298c6a2c4a",
   "metadata": {},
   "outputs": [],
   "source": [
    "embeddings = OpenAIEmbeddings()"
   ]
  },
  {
   "cell_type": "code",
   "execution_count": null,
   "id": "1237a5c0-7d54-4f3b-add4-4d31209a9372",
   "metadata": {},
   "outputs": [],
   "source": [
    "# set persist directory so the vector store is saved to disk\n",
    "db = Chroma.from_documents(chunks, embeddings, persist_directory=\"./vectorstore\")"
   ]
  },
  {
   "cell_type": "code",
   "execution_count": null,
   "id": "a5dcea58-9880-4299-ba23-2a4d59939825",
   "metadata": {},
   "outputs": [],
   "source": [
    "# vector store \n",
    "retriever = db.as_retriever(\n",
    "    search_type=\"similarity\",\n",
    "    search_kwargs={\"k\":5} # number of nearest neighbors to retrieve  \n",
    ")\n",
    "\n",
    "\n",
    "# q/a chain \n",
    "qa = RetrievalQA.from_chain_type(\n",
    "    OpenAI(),\n",
    "    chain_type=\"stuff\",\n",
    "    retriever=retriever,\n",
    "    return_source_documents=False\n",
    ")"
   ]
  },
  {
   "cell_type": "code",
   "execution_count": null,
   "id": "180d69ac-04c6-4437-836f-72903de9c0d2",
   "metadata": {},
   "outputs": [],
   "source": [
    "qa({\"query\": \"why is he a capable sales engineer. give me one sentence, thats it.\"})"
   ]
  }
 ],
 "metadata": {
  "kernelspec": {
   "display_name": "Python 3 (ipykernel)",
   "language": "python",
   "name": "python3"
  },
  "language_info": {
   "codemirror_mode": {
    "name": "ipython",
    "version": 3
   },
   "file_extension": ".py",
   "mimetype": "text/x-python",
   "name": "python",
   "nbconvert_exporter": "python",
   "pygments_lexer": "ipython3",
   "version": "3.11.6"
  }
 },
 "nbformat": 4,
 "nbformat_minor": 5
}
